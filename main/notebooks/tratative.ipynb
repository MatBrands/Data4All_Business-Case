{
 "cells": [
  {
   "cell_type": "code",
   "execution_count": 11,
   "metadata": {},
   "outputs": [],
   "source": [
    "import numpy as np\n",
    "import pandas as pd"
   ]
  },
  {
   "cell_type": "code",
   "execution_count": 12,
   "metadata": {},
   "outputs": [
    {
     "data": {
      "text/html": [
       "<div>\n",
       "<style scoped>\n",
       "    .dataframe tbody tr th:only-of-type {\n",
       "        vertical-align: middle;\n",
       "    }\n",
       "\n",
       "    .dataframe tbody tr th {\n",
       "        vertical-align: top;\n",
       "    }\n",
       "\n",
       "    .dataframe thead th {\n",
       "        text-align: right;\n",
       "    }\n",
       "</style>\n",
       "<table border=\"1\" class=\"dataframe\">\n",
       "  <thead>\n",
       "    <tr style=\"text-align: right;\">\n",
       "      <th></th>\n",
       "      <th>Data</th>\n",
       "      <th>Energia_usada</th>\n",
       "      <th>V1</th>\n",
       "      <th>V2</th>\n",
       "      <th>V3</th>\n",
       "      <th>V4</th>\n",
       "      <th>V5</th>\n",
       "      <th>V6</th>\n",
       "      <th>V7</th>\n",
       "      <th>V8</th>\n",
       "      <th>V9</th>\n",
       "    </tr>\n",
       "  </thead>\n",
       "  <tbody>\n",
       "    <tr>\n",
       "      <th>0</th>\n",
       "      <td>01/01/2018 00:15</td>\n",
       "      <td>3.17</td>\n",
       "      <td>2.95</td>\n",
       "      <td>0.0</td>\n",
       "      <td>0.0</td>\n",
       "      <td>73.21</td>\n",
       "      <td>100.0</td>\n",
       "      <td>900</td>\n",
       "      <td>Dia da Semana</td>\n",
       "      <td>Segunda-feira</td>\n",
       "      <td>Carga leve</td>\n",
       "    </tr>\n",
       "    <tr>\n",
       "      <th>1</th>\n",
       "      <td>01/01/2018 00:30</td>\n",
       "      <td>4.00</td>\n",
       "      <td>4.46</td>\n",
       "      <td>0.0</td>\n",
       "      <td>0.0</td>\n",
       "      <td>66.77</td>\n",
       "      <td>100.0</td>\n",
       "      <td>1800</td>\n",
       "      <td>Dia da Semana</td>\n",
       "      <td>Segunda-feira</td>\n",
       "      <td>Carga leve</td>\n",
       "    </tr>\n",
       "    <tr>\n",
       "      <th>2</th>\n",
       "      <td>01/01/2018 00:45</td>\n",
       "      <td>3.24</td>\n",
       "      <td>3.28</td>\n",
       "      <td>0.0</td>\n",
       "      <td>0.0</td>\n",
       "      <td>70.28</td>\n",
       "      <td>100.0</td>\n",
       "      <td>2700</td>\n",
       "      <td>Dia da Semana</td>\n",
       "      <td>Segunda-feira</td>\n",
       "      <td>Carga leve</td>\n",
       "    </tr>\n",
       "    <tr>\n",
       "      <th>3</th>\n",
       "      <td>01/01/2018 01:00</td>\n",
       "      <td>3.31</td>\n",
       "      <td>3.56</td>\n",
       "      <td>0.0</td>\n",
       "      <td>0.0</td>\n",
       "      <td>68.09</td>\n",
       "      <td>100.0</td>\n",
       "      <td>3600</td>\n",
       "      <td>Dia da Semana</td>\n",
       "      <td>Segunda-feira</td>\n",
       "      <td>Carga leve</td>\n",
       "    </tr>\n",
       "    <tr>\n",
       "      <th>4</th>\n",
       "      <td>01/01/2018 01:15</td>\n",
       "      <td>3.82</td>\n",
       "      <td>4.50</td>\n",
       "      <td>0.0</td>\n",
       "      <td>0.0</td>\n",
       "      <td>64.72</td>\n",
       "      <td>100.0</td>\n",
       "      <td>4500</td>\n",
       "      <td>Dia da Semana</td>\n",
       "      <td>Segunda-feira</td>\n",
       "      <td>Carga leve</td>\n",
       "    </tr>\n",
       "  </tbody>\n",
       "</table>\n",
       "</div>"
      ],
      "text/plain": [
       "               Data  Energia_usada    V1   V2   V3     V4     V5    V6  \\\n",
       "0  01/01/2018 00:15           3.17  2.95  0.0  0.0  73.21  100.0   900   \n",
       "1  01/01/2018 00:30           4.00  4.46  0.0  0.0  66.77  100.0  1800   \n",
       "2  01/01/2018 00:45           3.24  3.28  0.0  0.0  70.28  100.0  2700   \n",
       "3  01/01/2018 01:00           3.31  3.56  0.0  0.0  68.09  100.0  3600   \n",
       "4  01/01/2018 01:15           3.82  4.50  0.0  0.0  64.72  100.0  4500   \n",
       "\n",
       "              V7             V8          V9  \n",
       "0  Dia da Semana  Segunda-feira  Carga leve  \n",
       "1  Dia da Semana  Segunda-feira  Carga leve  \n",
       "2  Dia da Semana  Segunda-feira  Carga leve  \n",
       "3  Dia da Semana  Segunda-feira  Carga leve  \n",
       "4  Dia da Semana  Segunda-feira  Carga leve  "
      ]
     },
     "execution_count": 12,
     "metadata": {},
     "output_type": "execute_result"
    }
   ],
   "source": [
    "df = pd.read_csv('../datasets/raw.csv')\n",
    "df.head()"
   ]
  },
  {
   "cell_type": "code",
   "execution_count": 13,
   "metadata": {},
   "outputs": [],
   "source": [
    "df.columns = ['data', 'consumo_energia', 'corrente_atrasada', 'corrente_principal', 'co2', 'potencia_atrasado', 'potencia_principal', 'segundos_depois_meia_noite', 'estado_semana', 'dia_semana', 'tipo_carga']"
   ]
  },
  {
   "cell_type": "code",
   "execution_count": 14,
   "metadata": {},
   "outputs": [
    {
     "data": {
      "text/plain": [
       "11722932"
      ]
     },
     "execution_count": 14,
     "metadata": {},
     "output_type": "execute_result"
    }
   ],
   "source": [
    "memory_before = df.memory_usage(deep=True).sum()\n",
    "memory_before"
   ]
  },
  {
   "cell_type": "code",
   "execution_count": 15,
   "metadata": {},
   "outputs": [
    {
     "name": "stdout",
     "output_type": "stream",
     "text": [
      "<class 'pandas.core.frame.DataFrame'>\n",
      "RangeIndex: 35040 entries, 0 to 35039\n",
      "Data columns (total 11 columns):\n",
      " #   Column                      Non-Null Count  Dtype  \n",
      "---  ------                      --------------  -----  \n",
      " 0   data                        35040 non-null  object \n",
      " 1   consumo_energia             35040 non-null  float64\n",
      " 2   corrente_atrasada           35040 non-null  float64\n",
      " 3   corrente_principal          35040 non-null  float64\n",
      " 4   co2                         35040 non-null  float64\n",
      " 5   potencia_atrasado           35040 non-null  float64\n",
      " 6   potencia_principal          35040 non-null  float64\n",
      " 7   segundos_depois_meia_noite  35040 non-null  int64  \n",
      " 8   estado_semana               35040 non-null  object \n",
      " 9   dia_semana                  35040 non-null  object \n",
      " 10  tipo_carga                  35040 non-null  object \n",
      "dtypes: float64(6), int64(1), object(4)\n",
      "memory usage: 11.2 MB\n"
     ]
    }
   ],
   "source": [
    "df.info(memory_usage='deep')"
   ]
  },
  {
   "cell_type": "code",
   "execution_count": 16,
   "metadata": {},
   "outputs": [
    {
     "data": {
      "text/plain": [
       "data                          35040\n",
       "consumo_energia                3343\n",
       "corrente_atrasada              1954\n",
       "corrente_principal              768\n",
       "co2                               8\n",
       "potencia_atrasado              5079\n",
       "potencia_principal             3366\n",
       "segundos_depois_meia_noite       96\n",
       "estado_semana                     2\n",
       "dia_semana                        7\n",
       "tipo_carga                        3\n",
       "dtype: int64"
      ]
     },
     "execution_count": 16,
     "metadata": {},
     "output_type": "execute_result"
    }
   ],
   "source": [
    "df.nunique()"
   ]
  },
  {
   "cell_type": "code",
   "execution_count": 17,
   "metadata": {},
   "outputs": [],
   "source": [
    "df.data = df.data.astype('datetime64[ns]')\n",
    "df.co2 = df.co2.astype('float16')\n",
    "df.segundos_depois_meia_noite = df.segundos_depois_meia_noite.astype('int32')\n",
    "df.estado_semana = df.estado_semana.astype('category')\n",
    "df.dia_semana = df.dia_semana.astype('category')\n",
    "df.tipo_carga = df.tipo_carga.astype('category')"
   ]
  },
  {
   "cell_type": "code",
   "execution_count": 18,
   "metadata": {},
   "outputs": [
    {
     "data": {
      "text/plain": [
       "1998745"
      ]
     },
     "execution_count": 18,
     "metadata": {},
     "output_type": "execute_result"
    }
   ],
   "source": [
    "memory_after = df.memory_usage(deep=True).sum()\n",
    "memory_after"
   ]
  },
  {
   "cell_type": "code",
   "execution_count": 19,
   "metadata": {},
   "outputs": [
    {
     "name": "stdout",
     "output_type": "stream",
     "text": [
      "<class 'pandas.core.frame.DataFrame'>\n",
      "RangeIndex: 35040 entries, 0 to 35039\n",
      "Data columns (total 11 columns):\n",
      " #   Column                      Non-Null Count  Dtype         \n",
      "---  ------                      --------------  -----         \n",
      " 0   data                        35040 non-null  datetime64[ns]\n",
      " 1   consumo_energia             35040 non-null  float64       \n",
      " 2   corrente_atrasada           35040 non-null  float64       \n",
      " 3   corrente_principal          35040 non-null  float64       \n",
      " 4   co2                         35040 non-null  float16       \n",
      " 5   potencia_atrasado           35040 non-null  float64       \n",
      " 6   potencia_principal          35040 non-null  float64       \n",
      " 7   segundos_depois_meia_noite  35040 non-null  int32         \n",
      " 8   estado_semana               35040 non-null  category      \n",
      " 9   dia_semana                  35040 non-null  category      \n",
      " 10  tipo_carga                  35040 non-null  category      \n",
      "dtypes: category(3), datetime64[ns](1), float16(1), float64(5), int32(1)\n",
      "memory usage: 1.9 MB\n"
     ]
    }
   ],
   "source": [
    "df.info(memory_usage='deep')"
   ]
  },
  {
   "cell_type": "code",
   "execution_count": 20,
   "metadata": {},
   "outputs": [
    {
     "name": "stdout",
     "output_type": "stream",
     "text": [
      " 17.05% da memória original\n"
     ]
    }
   ],
   "source": [
    "print (f'{memory_after/memory_before*100: .2f}% da memória original')"
   ]
  },
  {
   "cell_type": "code",
   "execution_count": 21,
   "metadata": {},
   "outputs": [],
   "source": [
    "df.to_pickle('../datasets/processed.pkl')"
   ]
  }
 ],
 "metadata": {
  "kernelspec": {
   "display_name": "data4all_venv",
   "language": "python",
   "name": "python3"
  },
  "language_info": {
   "codemirror_mode": {
    "name": "ipython",
    "version": 3
   },
   "file_extension": ".py",
   "mimetype": "text/x-python",
   "name": "python",
   "nbconvert_exporter": "python",
   "pygments_lexer": "ipython3",
   "version": "3.11.2"
  },
  "orig_nbformat": 4
 },
 "nbformat": 4,
 "nbformat_minor": 2
}
