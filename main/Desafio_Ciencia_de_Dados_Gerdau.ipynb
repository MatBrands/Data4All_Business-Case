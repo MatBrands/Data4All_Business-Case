{
 "cells": [
  {
   "cell_type": "markdown",
   "id": "72cdcca7-0ab2-4ffc-be8e-d11dfb01410e",
   "metadata": {},
   "source": [
    "## **Desafio de Ciencia de Dados da Gerdau - Data & Analytics**"
   ]
  },
  {
   "attachments": {},
   "cell_type": "markdown",
   "id": "00cb4874-7ca0-4171-8ca3-e58720f78f9b",
   "metadata": {},
   "source": [
    "<img src=\"./media/data_analytics.png\" alt=\"drawing\" width=\"200\"/> "
   ]
  },
  {
   "cell_type": "markdown",
   "id": "76565302-88c6-4666-a4c7-fe31aff0ba97",
   "metadata": {},
   "source": [
    "## **Introdução**\n",
    "\n",
    "O time de Data Science da Gerdau usa Inteligência Artificial e Advanced Analytics para resolver problemas diversos dentro da nossa empresa. Nesse desafio você terá contato com algumas das tarefas diárias de um Cientista de Dados do time e como ele avaliaremos, como suas competências estão conectadas com nossos pilares técnicos e do negócio.\n",
    "\n",
    "Guiaremos você ao longo do problema, e sua senioridade, de acordo com nossos padrões e pilares, será definida pela maneira como você resolverá cada item.\n",
    "\n",
    "## **O que você deve levar em consideração**\n",
    "\n",
    "* Descrever a abordagem utilizada na resolução do desafio\n",
    "* Trechos de códigos deverão ter comentários essenciais\n",
    "* O desafio deverá ser feito com a linguagem de programação Python + bibliotecas que você achar necessário\n",
    "* Soluções utilizando Excel, R e outras linguagens serão desconsideradas\n",
    "* Recomendamos utilizar Jupyter Lab ou Notebook. \n",
    "\n",
    "## **Prazo de entrega**\n",
    "\n",
    "* De acordo conforme combinado com o time de Data & Analytics\n",
    "\n",
    "## **Desclassificação Automática**\n",
    "\n",
    "* Entregar fora do prazo\n",
    "* Compartilhar sua solução com outras pessoas\n",
    "* Compartilhar sua solução em repositórios públicos. Exemplo: GitHub\n",
    "\n",
    "## **Objetivo**\n",
    "\n",
    "A produção de uma empresa de aço envolve a fabricação de vários tipos de componentes, incluindo bobinas e placas. As informações sobre o consumo de energia são registradas em um sistema de armazenamento em nuvem. O monitoramento do consumo energético desta indústria está disponível nos dados fornecidos. Desta forma, **gostariamos que você prevea o consumo elétrico em uma perspectiva mensal**.\n"
   ]
  },
  {
   "cell_type": "markdown",
   "id": "8b25fd70",
   "metadata": {},
   "source": [
    "------"
   ]
  },
  {
   "cell_type": "markdown",
   "id": "1e88f6fe-80d7-4afe-944b-6304bd31220d",
   "metadata": {
    "tags": []
   },
   "source": [
    "## 1. Análise Exploratória e Qualidade dos Dados\n",
    "\n",
    "Gostariamos que nesta primeira etapa do processo, use sua curiosidade e criatividade, além de experiência, para extrair informação de cada variável ou relação entre as variáveis do dataset. Nesta etapa, podem surgir insights que gerem valor para o negócio, além de ajudar ao entendimento do problema. Esperamos que você gere estatísticas, gráficos, visualizações que descrevam os dados e como eles estão conectados com o problema.\n",
    "\n",
    "Temos acesso aos dados de consumo elétrico da empresa, referentes a um período de 1 ano, sendo que a medição é realizada em intervalos de 15 minutos.\n",
    "\n",
    "| Nome          | Description.                                         | Tipo Variável | \n",
    "|---------------|------------------------------------------------------|---------------|\n",
    "| Data          | Data de registro do consumo                          | Continua      |\n",
    "| Energia_usada | Consumo de energia da empresa [kWh]                  | Continua      |\n",
    "| V1            | Corrente atrasada [kVarh]                            | Continua      |\n",
    "| V2            | Corrente principal [kVarh]                           | Continua      |\n",
    "| V3            | Medições de C02 [ppm]                                | Continua      |\n",
    "| V4            | Fator de potência atual atrasado                     | Continua      |\n",
    "| V5            | Fator de potência atual principal                    | Continua      |\n",
    "| V6            | Número de segundos a partir da meia-noite [S]        | Continua      |\n",
    "| V7            | Estado da semana (Final de semana ou dia da semana)  | Categorica    |\n",
    "| V8            | Dia da semana (Terça-feira, Sábado, etc)             | Categorica    |\n",
    "| V9            | Tipo de carga (Carga leve, Carga média, Carga máxima) | Categorica    | "
   ]
  },
  {
   "cell_type": "markdown",
   "id": "50aed447",
   "metadata": {},
   "source": [
    "------"
   ]
  },
  {
   "cell_type": "markdown",
   "id": "887da3c8-49de-40d0-8f6c-a73bfb78d1eb",
   "metadata": {},
   "source": [
    "## 2. Modelo de aprendizado de máquina\n",
    "\n",
    "Finalmente a etapa de modelagem. Mostre o processo de desenvolvimento, as técnicas utilizadas, os algoritmos, sempre justificando suas escolhas. O modelo final é aquele que você teria confiança para usar na vida real.\n",
    "\n"
   ]
  },
  {
   "cell_type": "code",
   "execution_count": null,
   "id": "e691fd7b-e808-4cb8-a6b0-05eaf2b12c73",
   "metadata": {},
   "outputs": [],
   "source": []
  },
  {
   "cell_type": "markdown",
   "id": "e3efd7dc",
   "metadata": {},
   "source": [
    "--------"
   ]
  },
  {
   "cell_type": "markdown",
   "id": "7e1d1c87",
   "metadata": {},
   "source": [
    "### 2.2 Avaliação e escolha do modelo\n",
    "\n",
    "Descreva a(s) métrica(s) que você usou para avaliar o modelo. Lembre-se do objetivo do desafio, **Prever o consumo elétrico em uma perspectiva mensal**"
   ]
  },
  {
   "cell_type": "code",
   "execution_count": null,
   "id": "96f5f326-933f-4d22-90a7-313169a3722a",
   "metadata": {},
   "outputs": [],
   "source": []
  },
  {
   "cell_type": "markdown",
   "id": "33a3174b",
   "metadata": {},
   "source": [
    "---------"
   ]
  },
  {
   "cell_type": "markdown",
   "id": "1752fe5d-3a00-4203-a562-120fcf4e90e8",
   "metadata": {},
   "source": [
    "## 3. Uso do modelo\n",
    "\n",
    "Nesse ponto não há margem para mudança, é de fato o modelo final. Se bem apresentado e trazendo bons resultados, certamente o cliente da área de negócio perguntará: **\"Ok, como a gente pode usar esse modelo?\"** (Não precisa implementar)\n",
    "\n",
    "1. Como será utilizado o modelo: entra base, sai status?\n",
    "2. Qual é a entrega de valor deste modelo\n",
    "3. Quais tecnologias você usaria\n",
    "4. Como será a implementação do modelo? API, Docker, etc\n"
   ]
  },
  {
   "cell_type": "code",
   "execution_count": null,
   "id": "b7ebdb3c-1bd0-44ea-a100-5b014c7d8e0a",
   "metadata": {},
   "outputs": [],
   "source": []
  }
 ],
 "metadata": {
  "interpreter": {
   "hash": "044d6f591f8c5c2899374df6b3b9fd8f729eaa0c25935ab910f0110125768470"
  },
  "kernelspec": {
   "display_name": "Python 3 (ipykernel)",
   "language": "python",
   "name": "python3"
  },
  "language_info": {
   "codemirror_mode": {
    "name": "ipython",
    "version": 3
   },
   "file_extension": ".py",
   "mimetype": "text/x-python",
   "name": "python",
   "nbconvert_exporter": "python",
   "pygments_lexer": "ipython3",
   "version": "3.8.10"
  }
 },
 "nbformat": 4,
 "nbformat_minor": 5
}
